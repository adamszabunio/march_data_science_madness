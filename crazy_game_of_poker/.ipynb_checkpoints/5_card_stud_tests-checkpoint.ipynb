{
 "cells": [
  {
   "cell_type": "code",
   "execution_count": 1,
   "metadata": {
    "collapsed": true
   },
   "outputs": [],
   "source": [
    "import random\n",
    "import itertools \n",
    "from poker import *"
   ]
  },
  {
   "cell_type": "code",
   "execution_count": 2,
   "metadata": {
    "collapsed": false
   },
   "outputs": [
    {
     "name": "stdout",
     "output_type": "stream",
     "text": [
      "Standard 52-card deck for poker:\n",
      "\n",
      "['2♥', '2♣', '2◆', '2♠', '3♥', '3♣', '3◆', '3♠', '4♥', '4♣', '4◆', '4♠', '5♥', '5♣', '5◆', '5♠', '6♥', '6♣', '6◆', '6♠', '7♥', '7♣', '7◆', '7♠', '8♥', '8♣', '8◆', '8♠', '9♥', '9♣', '9◆', '9♠', 'T♥', 'T♣', 'T◆', 'T♠', 'J♥', 'J♣', 'J◆', 'J♠', 'Q♥', 'Q♣', 'Q◆', 'Q♠', 'K♥', 'K♣', 'K◆', 'K♠', 'A♥', 'A♣', 'A◆', 'A♠']\n",
      "\n",
      "5 possible hands of 5-card-stud:\n"
     ]
    },
    {
     "data": {
      "text/plain": [
       "[['2◆', '7♠', '5♣', 'T♣', '3♥'],\n",
       " ['8♠', '2♠', '8◆', '4♠', 'K◆'],\n",
       " ['Q♠', '3◆', '6♥', 'T♠', 'J◆'],\n",
       " ['7♣', '2♣', '5♥', 'A♣', 'Q◆'],\n",
       " ['4♣', 'A♥', '9◆', '6♣', '6◆']]"
      ]
     },
     "execution_count": 2,
     "metadata": {},
     "output_type": "execute_result"
    }
   ],
   "source": [
    "print(\"Standard 52-card deck for poker:\\n\")\n",
    "print(deck)\n",
    "print(\"\\n5 possible hands of 5-card-stud:\")\n",
    "deal(numhands=5, n=5)"
   ]
  },
  {
   "cell_type": "markdown",
   "metadata": {},
   "source": [
    "### How many possible combinations of 5 card hands exist in a 52 card deck?\n",
    "- 13 unique ranks '2, 3, 4, 5, 6, 7, 8, 9, Ten, Jack, Queen, King, Ace'\n",
    "- 4 unique suits '♥♣◆♠' Hearts, Clubs, Diamonds, Spades"
   ]
  },
  {
   "cell_type": "code",
   "execution_count": 3,
   "metadata": {
    "collapsed": false
   },
   "outputs": [
    {
     "data": {
      "text/plain": [
       "2598960"
      ]
     },
     "execution_count": 3,
     "metadata": {},
     "output_type": "execute_result"
    }
   ],
   "source": [
    "# the quick answer\n",
    "hands = [h for h in itertools.combinations(deck, 5)]\n",
    "len(hands)"
   ]
  },
  {
   "cell_type": "markdown",
   "metadata": {
    "collapsed": false
   },
   "source": [
    "### Wow, Over 2 and a half million!  ---> 2,598,960 unique hands\n",
    "- Let's unpack that"
   ]
  },
  {
   "cell_type": "code",
   "execution_count": 4,
   "metadata": {
    "collapsed": true
   },
   "outputs": [],
   "source": [
    "def n_choose_k(n, k):\n",
    "    \"\"\"\n",
    "    Using combinatorics, we have `n` unique options\n",
    "    that we can choose `k` cards from\n",
    "    \"\"\"\n",
    "    return factorial(n)/(factorial(n-k)*factorial(k))"
   ]
  },
  {
   "cell_type": "markdown",
   "metadata": {},
   "source": [
    "### Great but now we need to calculate `factorial`\n",
    "- Quick refresher, \n",
    "\n",
    "$5!$ = $5*4*3*2*1$\n",
    "\n",
    "- Yes, realize I can cheat and do\n",
    "\n",
    "`from math import factorial`\n",
    "- Rather, lets build it recursively "
   ]
  },
  {
   "cell_type": "code",
   "execution_count": 5,
   "metadata": {
    "collapsed": false
   },
   "outputs": [
    {
     "data": {
      "text/plain": [
       "120"
      ]
     },
     "execution_count": 5,
     "metadata": {},
     "output_type": "execute_result"
    }
   ],
   "source": [
    "def factorial(n):\n",
    "    if n < 0:\n",
    "        raise ValueError(\"Negative numbers have no factorial.\")\n",
    "    elif n <=1: \n",
    "        return 1\n",
    "    else:\n",
    "        return n * factorial(n-1)\n",
    "\n",
    "fact_5 = factorial(5) \n",
    "assert fact_5 == 5*4*3*2*1\n",
    "fact_5"
   ]
  },
  {
   "cell_type": "markdown",
   "metadata": {},
   "source": [
    "### This works just fine, but there is a big drawback to using recursive functions, Stack Overflow\n",
    "- No, not stackoverflow.com. But an actual [stack overflow](https://en.wikipedia.org/wiki/Stack_overflow)\n",
    "### Instead, lets introduce  Dynamic Programming. \n",
    "- Storing previously computed values rather than recomputing them.\n",
    "- In the case of `factorial` we build up the solution of a bigger problem from a smaller one."
   ]
  },
  {
   "cell_type": "code",
   "execution_count": 6,
   "metadata": {
    "collapsed": false
   },
   "outputs": [
    {
     "data": {
      "text/plain": [
       "120"
      ]
     },
     "execution_count": 6,
     "metadata": {},
     "output_type": "execute_result"
    }
   ],
   "source": [
    "def factorial_dp(n):\n",
    "    fact = 1\n",
    "    if n < 0:\n",
    "        raise ValueError(\"Negative numbers have no factorial.\")\n",
    "    elif n <= 1:\n",
    "        return fact\n",
    "    for i in range(2, n+1):\n",
    "        fact *=i\n",
    "    return fact\n",
    "\n",
    "factorial_dp(5)        "
   ]
  },
  {
   "cell_type": "markdown",
   "metadata": {},
   "source": [
    "### Same idea with reduce "
   ]
  },
  {
   "cell_type": "code",
   "execution_count": 7,
   "metadata": {
    "collapsed": true
   },
   "outputs": [],
   "source": [
    "from functools import reduce"
   ]
  },
  {
   "cell_type": "code",
   "execution_count": 8,
   "metadata": {
    "collapsed": false
   },
   "outputs": [
    {
     "data": {
      "text/plain": [
       "120"
      ]
     },
     "execution_count": 8,
     "metadata": {},
     "output_type": "execute_result"
    }
   ],
   "source": [
    "def factorial_reduce(n):\n",
    "    if n < 0:\n",
    "        raise ValueError(\"Negative numbers have no factorial.\")\n",
    "    elif n <= 1:\n",
    "        return 1\n",
    "    return reduce(lambda x,y: x*y, range(2, n+1))\n",
    "factorial_reduce(5)"
   ]
  },
  {
   "cell_type": "markdown",
   "metadata": {},
   "source": [
    "`lambda x,y: x*y`\n",
    "\n",
    "is equivalent to \n",
    "\n",
    "```def product(x, y):\n",
    "    return x*y```"
   ]
  },
  {
   "cell_type": "markdown",
   "metadata": {},
   "source": [
    "# Back to the problem at hand, `n_choose_k`\n",
    "- Let's update the function to be able to choose a `factorial` function"
   ]
  },
  {
   "cell_type": "code",
   "execution_count": 9,
   "metadata": {
    "collapsed": false
   },
   "outputs": [],
   "source": [
    "def n_choose_k(n, k, func=factorial):\n",
    "    \"\"\"\n",
    "    Using combinatorics, we have `n` unique options\n",
    "    that we can choose `k` cards from\n",
    "    and calculate with a factorial `func`\n",
    "    \"\"\"\n",
    "    return func(n)//(func(n-k)*func(k)) # use floor division to remove floats\n",
    "\n",
    "assert n_choose_k(52, 5, func=factorial) == 2598960 # testing functions\n",
    "assert n_choose_k(52, 5, func=factorial_dp) == 2598960\n",
    "assert n_choose_k(52, 5, func=factorial_reduce) == 2598960"
   ]
  },
  {
   "cell_type": "code",
   "execution_count": 10,
   "metadata": {
    "collapsed": false
   },
   "outputs": [
    {
     "name": "stdout",
     "output_type": "stream",
     "text": [
      "10000 loops, best of 3: 46.7 µs per loop\n"
     ]
    }
   ],
   "source": [
    "%%timeit\n",
    "n_choose_k(52, 5, func=factorial)"
   ]
  },
  {
   "cell_type": "code",
   "execution_count": 11,
   "metadata": {
    "collapsed": false
   },
   "outputs": [
    {
     "name": "stdout",
     "output_type": "stream",
     "text": [
      "10000 loops, best of 3: 11.2 µs per loop\n"
     ]
    }
   ],
   "source": [
    "%%timeit\n",
    "n_choose_k(52, 5, func=factorial_dp)"
   ]
  },
  {
   "cell_type": "code",
   "execution_count": 12,
   "metadata": {
    "collapsed": false
   },
   "outputs": [
    {
     "name": "stdout",
     "output_type": "stream",
     "text": [
      "10000 loops, best of 3: 31.9 µs per loop\n"
     ]
    }
   ],
   "source": [
    "%%timeit\n",
    "n_choose_k(52, 5, func=factorial_reduce)"
   ]
  },
  {
   "cell_type": "markdown",
   "metadata": {},
   "source": [
    "### Dynamic programing is 3x faster than the recursion\n",
    "- For completeness, "
   ]
  },
  {
   "cell_type": "code",
   "execution_count": 13,
   "metadata": {
    "collapsed": true
   },
   "outputs": [],
   "source": [
    "from math import factorial"
   ]
  },
  {
   "cell_type": "code",
   "execution_count": 14,
   "metadata": {
    "collapsed": false,
    "scrolled": true
   },
   "outputs": [
    {
     "name": "stdout",
     "output_type": "stream",
     "text": [
      "The slowest run took 25.12 times longer than the fastest. This could mean that an intermediate result is being cached.\n",
      "100000 loops, best of 3: 3.05 µs per loop\n"
     ]
    }
   ],
   "source": [
    "%%timeit\n",
    "n_choose_k(52, 5, func=factorial)"
   ]
  },
  {
   "cell_type": "markdown",
   "metadata": {},
   "source": [
    "### So what is `n_choose_k` telling us?\n",
    "- For starters, order doesn't matter.\n",
    "- What if order mattered?\n",
    "- Then we have a Permutation, i.e. an ordered Combination."
   ]
  },
  {
   "cell_type": "code",
   "execution_count": 15,
   "metadata": {
    "collapsed": false
   },
   "outputs": [
    {
     "data": {
      "text/plain": [
       "'If order mattered, we would have 311875200 possible 5-card combinations from a 52-card deck'"
      ]
     },
     "execution_count": 15,
     "metadata": {},
     "output_type": "execute_result"
    }
   ],
   "source": [
    "order_matters = reduce(lambda x,y: x*y, range(48, 53)) \n",
    "assert order_matters ==  52*51*50*49*48 \n",
    "\"If order mattered, we would have {} possible 5-card combinations from a 52-card deck\".format(order_matters)"
   ]
  },
  {
   "cell_type": "code",
   "execution_count": 16,
   "metadata": {
    "collapsed": false
   },
   "outputs": [
    {
     "data": {
      "text/plain": [
       "311875200"
      ]
     },
     "execution_count": 16,
     "metadata": {},
     "output_type": "execute_result"
    }
   ],
   "source": [
    "# as a function\n",
    "def permuation_without_replacement(n, r):\n",
    "    '''\n",
    "    returns the number of `r` combinations w/out replacement\n",
    "    from `n` options where order matter \n",
    "    '''\n",
    "    return factorial(n)//factorial(n-r)\n",
    "\n",
    "permuation_without_replacement(52, 5)"
   ]
  },
  {
   "cell_type": "markdown",
   "metadata": {},
   "source": [
    "### Holy moly, over 311 million combinations!\n",
    "- Yes, the order matters when we compare the ranks of hands, however,\n",
    "- as can be seen below, when hands are first dealt, order doesn't matter."
   ]
  },
  {
   "cell_type": "code",
   "execution_count": 17,
   "metadata": {
    "collapsed": false
   },
   "outputs": [
    {
     "name": "stdout",
     "output_type": "stream",
     "text": [
      "Three variations of the same hand: \n",
      "['4♠', '5♣', '7♠', '6♠', 'K♣'] \n",
      "['4♠', '5♣', '6♠', '7♠', 'K♣'] \n",
      "['K♣', '7♠', '6♠', '5♣', '4♠']\n",
      "\n",
      "Hand ranks: \n",
      "(0, [13, 7, 6, 5, 4]) \n",
      "(0, [13, 7, 6, 5, 4]) \n",
      "(0, [13, 7, 6, 5, 4])\n",
      "\n",
      "Assert all three hands have the same hand ranking:\n",
      "True\n",
      "--------------------------------------------------\n",
      "Three variations of the same hand: \n",
      "['A♠', '7♠', '6♣', 'T♥', '5♠'] \n",
      "['5♠', '6♣', '7♠', 'A♠', 'T♥'] \n",
      "['T♥', 'A♠', '7♠', '6♣', '5♠']\n",
      "\n",
      "Hand ranks: \n",
      "(0, [14, 10, 7, 6, 5]) \n",
      "(0, [14, 10, 7, 6, 5]) \n",
      "(0, [14, 10, 7, 6, 5])\n",
      "\n",
      "Assert all three hands have the same hand ranking:\n",
      "True\n",
      "--------------------------------------------------\n"
     ]
    }
   ],
   "source": [
    "for i in range(2):\n",
    "    rand_hand = deal(numhands=1, n=5)[0] # random, assorted\n",
    "    srtd_rand_hand = sorted(rand_hand) # sort ascending order\n",
    "    srtd_rand_hand_rev = sorted(rand_hand, reverse=True) # sort descending order\n",
    "    print(\"Three variations of the same hand: \\n{} \\n{} \\n{}\\n\".format(rand_hand, \n",
    "                                                                       srtd_rand_hand, \n",
    "                                                                       srtd_rand_hand_rev))\n",
    "    print(\"Hand ranks: \\n{} \\n{} \\n{}\\n\".format(hand_rank(rand_hand),\n",
    "                                                hand_rank(srtd_rand_hand),\n",
    "                                                hand_rank(srtd_rand_hand_rev)))\n",
    "    print(\"Assert all three hands have the same hand ranking:\")\n",
    "    print(hand_rank(rand_hand) == hand_rank(rand_hand) == hand_rank(rand_hand))\n",
    "    print(\"-\"*50)"
   ]
  },
  {
   "cell_type": "markdown",
   "metadata": {},
   "source": [
    "### So, how do we remove the ordered condition?\n",
    "First lets compare the 2 formulas:\n",
    "     \n",
    "`permuation_without_replacement` $ -- >\\frac{n!}{(n − r)!}$\n",
    "\n",
    "`n_choose_k` $ --> \\frac{n!}{(n − k)!k!}$ \n",
    "\n",
    "Nearly identical, besides an additional $k!$ included in the `n_choose_k` denominator. \n",
    "\n",
    "For lack of better words, this helps us 'normalize' the order condition."
   ]
  },
  {
   "cell_type": "code",
   "execution_count": 18,
   "metadata": {
    "collapsed": false
   },
   "outputs": [
    {
     "data": {
      "text/plain": [
       "2598960"
      ]
     },
     "execution_count": 18,
     "metadata": {},
     "output_type": "execute_result"
    }
   ],
   "source": [
    "permuation_without_replacement(52, 5)//factorial(5)"
   ]
  },
  {
   "cell_type": "code",
   "execution_count": 19,
   "metadata": {
    "collapsed": false
   },
   "outputs": [
    {
     "data": {
      "text/plain": [
       "2598960"
      ]
     },
     "execution_count": 19,
     "metadata": {},
     "output_type": "execute_result"
    }
   ],
   "source": [
    "n_choose_k(52, 5)"
   ]
  },
  {
   "cell_type": "code",
   "execution_count": 20,
   "metadata": {
    "collapsed": true
   },
   "outputs": [],
   "source": [
    "# TODO Dynamic Programming\n",
    "# Knapsack Problem"
   ]
  },
  {
   "cell_type": "markdown",
   "metadata": {
    "collapsed": true
   },
   "source": [
    "___"
   ]
  }
 ],
 "metadata": {
  "kernelspec": {
   "display_name": "Python [conda env:stats]",
   "language": "python",
   "name": "conda-env-stats-py"
  },
  "language_info": {
   "codemirror_mode": {
    "name": "ipython",
    "version": 3
   },
   "file_extension": ".py",
   "mimetype": "text/x-python",
   "name": "python",
   "nbconvert_exporter": "python",
   "pygments_lexer": "ipython3",
   "version": "3.6.0"
  }
 },
 "nbformat": 4,
 "nbformat_minor": 2
}
