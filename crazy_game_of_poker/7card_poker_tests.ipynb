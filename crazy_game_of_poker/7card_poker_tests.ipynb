{
 "cells": [
  {
   "cell_type": "code",
   "execution_count": 1,
   "metadata": {
    "collapsed": false
   },
   "outputs": [],
   "source": [
    "import pandas as pd\n",
    "import random\n",
    "from hold_em import deal_holdem\n",
    "from seven_card_stud import deal, hand_types\n",
    "from utils7card import * \n",
    "import matplotlib.pyplot as plt\n",
    "%matplotlib inline"
   ]
  },
  {
   "cell_type": "markdown",
   "metadata": {
    "collapsed": false
   },
   "source": [
    "### Building off of [5_card_stud_tests.ipynb](5_card_stud_tests.ipynb), lets create distibutions of hand types for three poker games:\n",
    "- 5-Card Stud\n",
    "- 7-Card Stud\n",
    "- Texas Hold 'em\n",
    "\n",
    "### The question is to have a fair representation of each hand type, how many simulations should be run?\n",
    "- First, lets find the distribution of the 9 handranks for every 5-card hand combination in a 52-card deck. \n",
    "- From the previous ipython notebook, we found out that there are *2,598,960* combinations. n_choose_k(52, 5)\n"
   ]
  },
  {
   "cell_type": "code",
   "execution_count": 2,
   "metadata": {
    "collapsed": false
   },
   "outputs": [
    {
     "data": {
      "text/plain": [
       "2598960"
      ]
     },
     "execution_count": 2,
     "metadata": {},
     "output_type": "execute_result"
    }
   ],
   "source": [
    "hands = [h for h in itertools.combinations(deck, 5)] # for every combination\n",
    "hand_ranks = [hand_rank(hand)[0] for hand in hands] # find the hand rank of each hand\n",
    "len(hand_ranks) # sanity check"
   ]
  },
  {
   "cell_type": "markdown",
   "metadata": {
    "collapsed": false
   },
   "source": [
    "### Hand Values \n",
    "- Based on how poker.py was refactored, (changes here: [poker_refactored.py](poker_refactored.py))\n",
    "\n",
    "The new rankings work out as such: \n",
    "- 9: \"Straight flush\", \n",
    "- 7: \"4 of a kind\",\n",
    "- 6: \"Full house\",  \n",
    "- 5: \"Flush\", \n",
    "- 4: \"Straight\",\n",
    "- 3: \"3 of a kind\", \n",
    "- 2: \"2 pair\", \n",
    "- 1: \"1 pair\", \n",
    "- 0: \"High card\"\n",
    "\n",
    "*Note that \"straight flush\" needed to be bumped to 9, leaving 8 without a partner in crime.*"
   ]
  },
  {
   "cell_type": "code",
   "execution_count": 3,
   "metadata": {
    "collapsed": false
   },
   "outputs": [
    {
     "data": {
      "text/plain": [
       "[('High card', 1302540),\n",
       " ('1 pair', 1098240),\n",
       " ('2 pair', 123552),\n",
       " ('3 of a kind', 54912),\n",
       " ('Straight', 10200),\n",
       " ('Flush', 5108),\n",
       " ('Full house', 3744),\n",
       " ('4 of a kind!', 624),\n",
       " ('Straight flush!', 40)]"
      ]
     },
     "execution_count": 3,
     "metadata": {},
     "output_type": "execute_result"
    }
   ],
   "source": [
    "hand_counts = [(hand_types[i], hand_ranks.count(i)) for i in range(10) if i!=8]\n",
    "hand_counts"
   ]
  },
  {
   "cell_type": "code",
   "execution_count": 4,
   "metadata": {
    "collapsed": false
   },
   "outputs": [
    {
     "data": {
      "text/html": [
       "<div>\n",
       "<table border=\"1\" class=\"dataframe\">\n",
       "  <thead>\n",
       "    <tr style=\"text-align: right;\">\n",
       "      <th></th>\n",
       "      <th>Hand_type</th>\n",
       "      <th>Hand_count</th>\n",
       "      <th>Probabilities %</th>\n",
       "    </tr>\n",
       "  </thead>\n",
       "  <tbody>\n",
       "    <tr>\n",
       "      <th>0</th>\n",
       "      <td>High card</td>\n",
       "      <td>1302540</td>\n",
       "      <td>50.117739</td>\n",
       "    </tr>\n",
       "    <tr>\n",
       "      <th>1</th>\n",
       "      <td>1 pair</td>\n",
       "      <td>1098240</td>\n",
       "      <td>42.256903</td>\n",
       "    </tr>\n",
       "    <tr>\n",
       "      <th>2</th>\n",
       "      <td>2 pair</td>\n",
       "      <td>123552</td>\n",
       "      <td>4.753902</td>\n",
       "    </tr>\n",
       "    <tr>\n",
       "      <th>3</th>\n",
       "      <td>3 of a kind</td>\n",
       "      <td>54912</td>\n",
       "      <td>2.112845</td>\n",
       "    </tr>\n",
       "    <tr>\n",
       "      <th>4</th>\n",
       "      <td>Straight</td>\n",
       "      <td>10200</td>\n",
       "      <td>0.392465</td>\n",
       "    </tr>\n",
       "    <tr>\n",
       "      <th>5</th>\n",
       "      <td>Flush</td>\n",
       "      <td>5108</td>\n",
       "      <td>0.196540</td>\n",
       "    </tr>\n",
       "    <tr>\n",
       "      <th>6</th>\n",
       "      <td>Full house</td>\n",
       "      <td>3744</td>\n",
       "      <td>0.144058</td>\n",
       "    </tr>\n",
       "    <tr>\n",
       "      <th>7</th>\n",
       "      <td>4 of a kind!</td>\n",
       "      <td>624</td>\n",
       "      <td>0.024010</td>\n",
       "    </tr>\n",
       "    <tr>\n",
       "      <th>8</th>\n",
       "      <td>Straight flush!</td>\n",
       "      <td>40</td>\n",
       "      <td>0.001539</td>\n",
       "    </tr>\n",
       "  </tbody>\n",
       "</table>\n",
       "</div>"
      ],
      "text/plain": [
       "         Hand_type  Hand_count  Probabilities %\n",
       "0        High card     1302540        50.117739\n",
       "1           1 pair     1098240        42.256903\n",
       "2           2 pair      123552         4.753902\n",
       "3      3 of a kind       54912         2.112845\n",
       "4         Straight       10200         0.392465\n",
       "5            Flush        5108         0.196540\n",
       "6       Full house        3744         0.144058\n",
       "7     4 of a kind!         624         0.024010\n",
       "8  Straight flush!          40         0.001539"
      ]
     },
     "execution_count": 4,
     "metadata": {},
     "output_type": "execute_result"
    }
   ],
   "source": [
    "df = pd.DataFrame(hand_counts, columns=[\"Hand_type\", \"Hand_count\"])\n",
    "df[\"Probabilities %\"] = df.apply(lambda x: x.Hand_count/len(hands)*100, axis=1)\n",
    "df"
   ]
  },
  {
   "cell_type": "markdown",
   "metadata": {},
   "source": [
    "- Shows how common a *High Card* handrank would be dealt ≈ 50%.\n",
    "- On the other hand, we see how uncommon a *Straight Flush* is ≈ 0.0015%.\n",
    "- Probability of a *Straight Flush = 0.001539* is not only unintuitive, it's ugly.\n",
    "- Can we do better?"
   ]
  },
  {
   "cell_type": "code",
   "execution_count": 5,
   "metadata": {
    "collapsed": false
   },
   "outputs": [
    {
     "name": "stdout",
     "output_type": "stream",
     "text": [
      "Probabaility of a Straight Flush occuring:\n",
      "Ugly:  1.5390771693292702e-05\n",
      "Pretty:  1/64974\n"
     ]
    }
   ],
   "source": [
    "from fractions import Fraction # so that we dont have absurdly small percentages e.g. (1/10000)\n",
    "print(\"Probabaility of a Straight Flush occuring:\")\n",
    "print(\"Ugly: \", 40/len(hand_ranks))\n",
    "print(\"Pretty: \", Fraction(40, len(hand_ranks)))"
   ]
  },
  {
   "cell_type": "markdown",
   "metadata": {
    "collapsed": false
   },
   "source": [
    "### Fractions help explain the probability easier.  $\\frac{1}{64974}$\n",
    "This is telling us the proabability of a *Straight Flush* occuring is $1$ out of $64974$\n",
    "- In other words, we *expect* to see a straight flush once every $64974$ hands. \n",
    "- Now that we know the probability of seeing the least common hand, we can set up for simulations.  \n",
    "    + Given we expect to see a straight flush once approximately every $65k$ hands, let's set the number of simulations so that we expect to see 10 straight flushes, ≈$650K$ hands. \n",
    "    \n",
    "### Lets see who wins!"
   ]
  },
  {
   "cell_type": "code",
   "execution_count": 6,
   "metadata": {
    "collapsed": false
   },
   "outputs": [],
   "source": [
    "def winning_hand_distribution(n=700, players=10, cards=5):\n",
    "    '''\n",
    "    sample `n` random hands to generate a distribution of \n",
    "    winning hand types for # of `players`\n",
    "    '''\n",
    "    winners = [0]*10\n",
    "    for i in range(n):\n",
    "        hands = deal(players, cards)\n",
    "        if cards == 7:\n",
    "            best_combos = [best_hand(h) for h in hands]\n",
    "            hand_type = hand_rank(poker(best_combos)[0])[0]\n",
    "        else:\n",
    "            hand_type = hand_rank(poker(hands)[0])[0]\n",
    "        winners[hand_type] += 1\n",
    "    winners.pop(8)# remove index 8\n",
    "    return winners"
   ]
  },
  {
   "cell_type": "code",
   "execution_count": 7,
   "metadata": {
    "collapsed": false
   },
   "outputs": [
    {
     "data": {
      "text/plain": [
       "[108, 29681, 18894, 11577, 2439, 1199, 925, 162, 15]"
      ]
     },
     "execution_count": 7,
     "metadata": {},
     "output_type": "execute_result"
    }
   ],
   "source": [
    "five_card_stud_winners = winning_hand_distribution(65_000, players=10, cards=5)\n",
    "five_card_stud_winners"
   ]
  },
  {
   "cell_type": "code",
   "execution_count": 8,
   "metadata": {
    "collapsed": false
   },
   "outputs": [
    {
     "data": {
      "text/plain": [
       "[2, 2443, 18049, 9611, 13003, 10436, 10534, 773, 149]"
      ]
     },
     "execution_count": 8,
     "metadata": {},
     "output_type": "execute_result"
    }
   ],
   "source": [
    "seven_card_stud_winners = winning_hand_distribution(65_000, players=7, cards=7)\n",
    "seven_card_stud_winners"
   ]
  },
  {
   "cell_type": "code",
   "execution_count": 9,
   "metadata": {
    "collapsed": false
   },
   "outputs": [
    {
     "data": {
      "text/html": [
       "<div>\n",
       "<table border=\"1\" class=\"dataframe\">\n",
       "  <thead>\n",
       "    <tr style=\"text-align: right;\">\n",
       "      <th></th>\n",
       "      <th>Hand_type</th>\n",
       "      <th>Hand_count</th>\n",
       "      <th>Probabilities %</th>\n",
       "      <th>5card_stud_wins</th>\n",
       "      <th>5card_prob %</th>\n",
       "      <th>7card_stud_wins</th>\n",
       "      <th>7card_prob %</th>\n",
       "    </tr>\n",
       "  </thead>\n",
       "  <tbody>\n",
       "    <tr>\n",
       "      <th>0</th>\n",
       "      <td>High card</td>\n",
       "      <td>1302540</td>\n",
       "      <td>50.117739</td>\n",
       "      <td>108</td>\n",
       "      <td>0.166154</td>\n",
       "      <td>2</td>\n",
       "      <td>0.003077</td>\n",
       "    </tr>\n",
       "    <tr>\n",
       "      <th>1</th>\n",
       "      <td>1 pair</td>\n",
       "      <td>1098240</td>\n",
       "      <td>42.256903</td>\n",
       "      <td>29681</td>\n",
       "      <td>45.663077</td>\n",
       "      <td>2443</td>\n",
       "      <td>3.758462</td>\n",
       "    </tr>\n",
       "    <tr>\n",
       "      <th>2</th>\n",
       "      <td>2 pair</td>\n",
       "      <td>123552</td>\n",
       "      <td>4.753902</td>\n",
       "      <td>18894</td>\n",
       "      <td>29.067692</td>\n",
       "      <td>18049</td>\n",
       "      <td>27.767692</td>\n",
       "    </tr>\n",
       "    <tr>\n",
       "      <th>3</th>\n",
       "      <td>3 of a kind</td>\n",
       "      <td>54912</td>\n",
       "      <td>2.112845</td>\n",
       "      <td>11577</td>\n",
       "      <td>17.810769</td>\n",
       "      <td>9611</td>\n",
       "      <td>14.786154</td>\n",
       "    </tr>\n",
       "    <tr>\n",
       "      <th>4</th>\n",
       "      <td>Straight</td>\n",
       "      <td>10200</td>\n",
       "      <td>0.392465</td>\n",
       "      <td>2439</td>\n",
       "      <td>3.752308</td>\n",
       "      <td>13003</td>\n",
       "      <td>20.004615</td>\n",
       "    </tr>\n",
       "    <tr>\n",
       "      <th>5</th>\n",
       "      <td>Flush</td>\n",
       "      <td>5108</td>\n",
       "      <td>0.196540</td>\n",
       "      <td>1199</td>\n",
       "      <td>1.844615</td>\n",
       "      <td>10436</td>\n",
       "      <td>16.055385</td>\n",
       "    </tr>\n",
       "    <tr>\n",
       "      <th>6</th>\n",
       "      <td>Full house</td>\n",
       "      <td>3744</td>\n",
       "      <td>0.144058</td>\n",
       "      <td>925</td>\n",
       "      <td>1.423077</td>\n",
       "      <td>10534</td>\n",
       "      <td>16.206154</td>\n",
       "    </tr>\n",
       "    <tr>\n",
       "      <th>7</th>\n",
       "      <td>4 of a kind!</td>\n",
       "      <td>624</td>\n",
       "      <td>0.024010</td>\n",
       "      <td>162</td>\n",
       "      <td>0.249231</td>\n",
       "      <td>773</td>\n",
       "      <td>1.189231</td>\n",
       "    </tr>\n",
       "    <tr>\n",
       "      <th>8</th>\n",
       "      <td>Straight flush!</td>\n",
       "      <td>40</td>\n",
       "      <td>0.001539</td>\n",
       "      <td>15</td>\n",
       "      <td>0.023077</td>\n",
       "      <td>149</td>\n",
       "      <td>0.229231</td>\n",
       "    </tr>\n",
       "  </tbody>\n",
       "</table>\n",
       "</div>"
      ],
      "text/plain": [
       "         Hand_type  Hand_count  Probabilities %  5card_stud_wins  \\\n",
       "0        High card     1302540        50.117739              108   \n",
       "1           1 pair     1098240        42.256903            29681   \n",
       "2           2 pair      123552         4.753902            18894   \n",
       "3      3 of a kind       54912         2.112845            11577   \n",
       "4         Straight       10200         0.392465             2439   \n",
       "5            Flush        5108         0.196540             1199   \n",
       "6       Full house        3744         0.144058              925   \n",
       "7     4 of a kind!         624         0.024010              162   \n",
       "8  Straight flush!          40         0.001539               15   \n",
       "\n",
       "   5card_prob %  7card_stud_wins  7card_prob %  \n",
       "0      0.166154                2      0.003077  \n",
       "1     45.663077             2443      3.758462  \n",
       "2     29.067692            18049     27.767692  \n",
       "3     17.810769             9611     14.786154  \n",
       "4      3.752308            13003     20.004615  \n",
       "5      1.844615            10436     16.055385  \n",
       "6      1.423077            10534     16.206154  \n",
       "7      0.249231              773      1.189231  \n",
       "8      0.023077              149      0.229231  "
      ]
     },
     "execution_count": 9,
     "metadata": {},
     "output_type": "execute_result"
    }
   ],
   "source": [
    "total = 65_000\n",
    "df[\"5card_stud_wins\"] = five_card_stud_winners\n",
    "df[\"5card_prob %\"] = df.apply(lambda x: (x[\"5card_stud_wins\"]/total)*100, axis=1)\n",
    "df[\"7card_stud_wins\"] = seven_card_stud_winners\n",
    "df[\"7card_prob %\"] = df.apply(lambda x: (x[\"7card_stud_wins\"]/total)*100, axis=1)\n",
    "df"
   ]
  },
  {
   "cell_type": "markdown",
   "metadata": {},
   "source": [
    "To be continued..."
   ]
  },
  {
   "cell_type": "markdown",
   "metadata": {
    "collapsed": true
   },
   "source": [
    "____"
   ]
  }
 ],
 "metadata": {
  "kernelspec": {
   "display_name": "Python [conda env:stats]",
   "language": "python",
   "name": "conda-env-stats-py"
  },
  "language_info": {
   "codemirror_mode": {
    "name": "ipython",
    "version": 3
   },
   "file_extension": ".py",
   "mimetype": "text/x-python",
   "name": "python",
   "nbconvert_exporter": "python",
   "pygments_lexer": "ipython3",
   "version": "3.6.0"
  }
 },
 "nbformat": 4,
 "nbformat_minor": 2
}
