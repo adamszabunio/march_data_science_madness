{
 "cells": [
  {
   "cell_type": "code",
   "execution_count": 1,
   "metadata": {
    "collapsed": false
   },
   "outputs": [],
   "source": [
    "import pandas as pd\n",
    "import random\n",
    "from hold_em import deal_holdem\n",
    "from seven_card_stud import deal, hand_types\n",
    "from utils7card import * \n",
    "import matplotlib.pyplot as plt\n",
    "%matplotlib inline"
   ]
  },
  {
   "cell_type": "markdown",
   "metadata": {
    "collapsed": false
   },
   "source": [
    "### Building off of [5_card_stud_tests.ipynb](5_card_stud_tests.ipynb), lets create distibutions of hand types for three poker games:\n",
    "- 5-Card Stud\n",
    "- 7-Card Stud\n",
    "- Texas Hold 'em\n",
    "\n",
    "### First question --> To have a fair representation of each hand type, how many simulations should be run?\n",
    "- First, lets find the distribution of the 9 handranks for every 5-card hand combination in a 52-card deck. \n",
    "- From the previous ipython notebook, we found out that there are *2,598,960* combinations. n_choose_k(52, 5)\n"
   ]
  },
  {
   "cell_type": "code",
   "execution_count": 2,
   "metadata": {
    "collapsed": false
   },
   "outputs": [
    {
     "data": {
      "text/plain": [
       "2598960"
      ]
     },
     "execution_count": 2,
     "metadata": {},
     "output_type": "execute_result"
    }
   ],
   "source": [
    "hands = [h for h in itertools.combinations(deck, 5)] # for every combination\n",
    "hand_ranks = [hand_rank(hand)[0] for hand in hands] # find the hand rank of each hand\n",
    "len(hand_ranks) # sanity check"
   ]
  },
  {
   "cell_type": "markdown",
   "metadata": {
    "collapsed": false
   },
   "source": [
    "### Hand Values \n",
    "- Based on how poker.py was refactored, (changes here: [poker_refactored.py](poker_refactored.py))\n",
    "\n",
    "The new rankings work out as such: \n",
    "- 9: \"Straight flush\", \n",
    "- 7: \"4 of a kind\",\n",
    "- 6: \"Full house\",  \n",
    "- 5: \"Flush\", \n",
    "- 4: \"Straight\",\n",
    "- 3: \"3 of a kind\", \n",
    "- 2: \"2 pair\", \n",
    "- 1: \"1 pair\", \n",
    "- 0: \"High card\"\n",
    "\n",
    "*Note that \"straight flush\" needed to be bumped to 9, leaving 8 without a partner in crime.*"
   ]
  },
  {
   "cell_type": "code",
   "execution_count": 3,
   "metadata": {
    "collapsed": false
   },
   "outputs": [
    {
     "data": {
      "text/plain": [
       "[('High card', 1302540),\n",
       " ('1 pair', 1098240),\n",
       " ('2 pair', 123552),\n",
       " ('3 of a kind', 54912),\n",
       " ('Straight', 10200),\n",
       " ('Flush', 5108),\n",
       " ('Full house', 3744),\n",
       " ('4 of a kind!', 624),\n",
       " ('Straight flush!', 40)]"
      ]
     },
     "execution_count": 3,
     "metadata": {},
     "output_type": "execute_result"
    }
   ],
   "source": [
    "hand_counts = [(hand_types[i], hand_ranks.count(i)) for i in range(10) if i!=8]\n",
    "hand_counts"
   ]
  },
  {
   "cell_type": "markdown",
   "metadata": {},
   "source": [
    "### Hand Counts and Probabilities \n",
    "- Hand counts represent the absolute frequencies. \n",
    "- Probabilities represent the relative frequencies."
   ]
  },
  {
   "cell_type": "code",
   "execution_count": 5,
   "metadata": {
    "collapsed": false
   },
   "outputs": [
    {
     "data": {
      "text/html": [
       "<div>\n",
       "<table border=\"1\" class=\"dataframe\">\n",
       "  <thead>\n",
       "    <tr style=\"text-align: right;\">\n",
       "      <th></th>\n",
       "      <th>hand_type</th>\n",
       "      <th>hand_count</th>\n",
       "      <th>probability</th>\n",
       "      <th>true_prob_%</th>\n",
       "    </tr>\n",
       "  </thead>\n",
       "  <tbody>\n",
       "    <tr>\n",
       "      <th>0</th>\n",
       "      <td>High card</td>\n",
       "      <td>1302540</td>\n",
       "      <td>0.501177</td>\n",
       "      <td>50.117739</td>\n",
       "    </tr>\n",
       "    <tr>\n",
       "      <th>1</th>\n",
       "      <td>1 pair</td>\n",
       "      <td>1098240</td>\n",
       "      <td>0.422569</td>\n",
       "      <td>42.256903</td>\n",
       "    </tr>\n",
       "    <tr>\n",
       "      <th>2</th>\n",
       "      <td>2 pair</td>\n",
       "      <td>123552</td>\n",
       "      <td>0.047539</td>\n",
       "      <td>4.753902</td>\n",
       "    </tr>\n",
       "    <tr>\n",
       "      <th>3</th>\n",
       "      <td>3 of a kind</td>\n",
       "      <td>54912</td>\n",
       "      <td>0.021128</td>\n",
       "      <td>2.112845</td>\n",
       "    </tr>\n",
       "    <tr>\n",
       "      <th>4</th>\n",
       "      <td>Straight</td>\n",
       "      <td>10200</td>\n",
       "      <td>0.003925</td>\n",
       "      <td>0.392465</td>\n",
       "    </tr>\n",
       "    <tr>\n",
       "      <th>5</th>\n",
       "      <td>Flush</td>\n",
       "      <td>5108</td>\n",
       "      <td>0.001965</td>\n",
       "      <td>0.196540</td>\n",
       "    </tr>\n",
       "    <tr>\n",
       "      <th>6</th>\n",
       "      <td>Full house</td>\n",
       "      <td>3744</td>\n",
       "      <td>0.001441</td>\n",
       "      <td>0.144058</td>\n",
       "    </tr>\n",
       "    <tr>\n",
       "      <th>7</th>\n",
       "      <td>4 of a kind!</td>\n",
       "      <td>624</td>\n",
       "      <td>0.000240</td>\n",
       "      <td>0.024010</td>\n",
       "    </tr>\n",
       "    <tr>\n",
       "      <th>8</th>\n",
       "      <td>Straight flush!</td>\n",
       "      <td>40</td>\n",
       "      <td>0.000015</td>\n",
       "      <td>0.001539</td>\n",
       "    </tr>\n",
       "  </tbody>\n",
       "</table>\n",
       "</div>"
      ],
      "text/plain": [
       "         hand_type  hand_count  probability  true_prob_%\n",
       "0        High card     1302540     0.501177    50.117739\n",
       "1           1 pair     1098240     0.422569    42.256903\n",
       "2           2 pair      123552     0.047539     4.753902\n",
       "3      3 of a kind       54912     0.021128     2.112845\n",
       "4         Straight       10200     0.003925     0.392465\n",
       "5            Flush        5108     0.001965     0.196540\n",
       "6       Full house        3744     0.001441     0.144058\n",
       "7     4 of a kind!         624     0.000240     0.024010\n",
       "8  Straight flush!          40     0.000015     0.001539"
      ]
     },
     "execution_count": 5,
     "metadata": {},
     "output_type": "execute_result"
    }
   ],
   "source": [
    "df = pd.DataFrame(hand_counts, columns=[\"hand_type\", \"hand_count\"])\n",
    "df[\"probability\"] = df.apply(lambda x: x.hand_count/len(hands), axis=1)\n",
    "df[\"true_prob_%\"] = df.probability*100\n",
    "df"
   ]
  },
  {
   "cell_type": "markdown",
   "metadata": {},
   "source": [
    "- Above we can see how common a *High Card* handrank would be expected to be dealt ≈*0.50*, approx half the time.\n",
    "- On the other hand, we see how uncommon a *Straight Flush* is ≈*0.000015*.\n",
    "    - Probability of *0.00001539* is ugly.\n",
    "- Can we do better?"
   ]
  },
  {
   "cell_type": "code",
   "execution_count": 6,
   "metadata": {
    "collapsed": false
   },
   "outputs": [
    {
     "name": "stdout",
     "output_type": "stream",
     "text": [
      "Probabaility of a Straight Flush occuring:\n",
      "Ugly:  1.5390771693292702e-05\n",
      "Pretty:  1/64974\n"
     ]
    }
   ],
   "source": [
    "from fractions import Fraction # so that we dont have absurdly small probabilities e.g. (1/10000)\n",
    "print(\"Probabaility of a Straight Flush occuring:\")\n",
    "print(\"Ugly: \", 40/len(hand_ranks))\n",
    "print(\"Pretty: \", Fraction(40, len(hand_ranks)))"
   ]
  },
  {
   "cell_type": "markdown",
   "metadata": {
    "collapsed": false
   },
   "source": [
    "### Fractions help explain the probability more intuitively:\n",
    "### $\\frac{1}{64974}$\n",
    "- This is telling us the proabability of a *Straight Flush* occuring is $1$ out of $64974$\n",
    "- In other words, we *expect* to see a straight flush once every $64974$ hands.\n",
    "- In other other words, the *expected outcome* of a straight flush occuring is equal to the *probability* that a straight flush might occur (*0.00001539*) for each hand, multiplied by the number of hands (*64974*). \n",
    "    - *64974 x 0.00001539 = 1*\n",
    "\n",
    "- Now that we know the probability of seeing the least common ranked hand, we can set up for simulations.  \n",
    "    + Given we expect to see a straight flush once approximately every $65K$ hands, let's set the number of simulations so that we expect to see 10 straight flushes, ≈$650K$ hands. \n",
    "    \n",
    "### Lets see who wins!\n",
    "- First, the studs.\n",
    "    - 7-card-stud\n",
    "    - 5-card-stud"
   ]
  },
  {
   "cell_type": "code",
   "execution_count": 7,
   "metadata": {
    "collapsed": false
   },
   "outputs": [],
   "source": [
    "def winning_hand_distribution(n, players=10, cards=5):\n",
    "    '''\n",
    "    sample `n` random hands to generate a distribution of \n",
    "    winning hand types for # of `players`\n",
    "    '''\n",
    "    winners = [0]*10\n",
    "    for i in range(n):\n",
    "        hands = deal(players, cards)\n",
    "        if cards == 7:\n",
    "            best_combos = [best_hand(h) for h in hands]\n",
    "            hand_type = hand_rank(poker(best_combos)[0])[0]\n",
    "        else:\n",
    "            hand_type = hand_rank(poker(hands)[0])[0]\n",
    "        winners[hand_type] += 1\n",
    "    winners.pop(8)# remove index 8\n",
    "    return winners"
   ]
  },
  {
   "cell_type": "code",
   "execution_count": 8,
   "metadata": {
    "collapsed": false
   },
   "outputs": [
    {
     "data": {
      "text/html": [
       "<div>\n",
       "<table border=\"1\" class=\"dataframe\">\n",
       "  <thead>\n",
       "    <tr style=\"text-align: right;\">\n",
       "      <th></th>\n",
       "      <th>hand_type</th>\n",
       "      <th>hand_count</th>\n",
       "      <th>probability</th>\n",
       "      <th>true_prob_%</th>\n",
       "      <th>5c_stud_wins</th>\n",
       "      <th>5c_win_%</th>\n",
       "      <th>7c_stud_wins</th>\n",
       "      <th>7c_win_%</th>\n",
       "    </tr>\n",
       "  </thead>\n",
       "  <tbody>\n",
       "    <tr>\n",
       "      <th>0</th>\n",
       "      <td>High card</td>\n",
       "      <td>1302540</td>\n",
       "      <td>0.501177</td>\n",
       "      <td>50.117739</td>\n",
       "      <td>96</td>\n",
       "      <td>0.147692</td>\n",
       "      <td>0</td>\n",
       "      <td>0.000000</td>\n",
       "    </tr>\n",
       "    <tr>\n",
       "      <th>1</th>\n",
       "      <td>1 pair</td>\n",
       "      <td>1098240</td>\n",
       "      <td>0.422569</td>\n",
       "      <td>42.256903</td>\n",
       "      <td>29669</td>\n",
       "      <td>45.644615</td>\n",
       "      <td>2455</td>\n",
       "      <td>3.776923</td>\n",
       "    </tr>\n",
       "    <tr>\n",
       "      <th>2</th>\n",
       "      <td>2 pair</td>\n",
       "      <td>123552</td>\n",
       "      <td>0.047539</td>\n",
       "      <td>4.753902</td>\n",
       "      <td>18891</td>\n",
       "      <td>29.063077</td>\n",
       "      <td>17946</td>\n",
       "      <td>27.609231</td>\n",
       "    </tr>\n",
       "    <tr>\n",
       "      <th>3</th>\n",
       "      <td>3 of a kind</td>\n",
       "      <td>54912</td>\n",
       "      <td>0.021128</td>\n",
       "      <td>2.112845</td>\n",
       "      <td>11613</td>\n",
       "      <td>17.866154</td>\n",
       "      <td>9637</td>\n",
       "      <td>14.826154</td>\n",
       "    </tr>\n",
       "    <tr>\n",
       "      <th>4</th>\n",
       "      <td>Straight</td>\n",
       "      <td>10200</td>\n",
       "      <td>0.003925</td>\n",
       "      <td>0.392465</td>\n",
       "      <td>2353</td>\n",
       "      <td>3.620000</td>\n",
       "      <td>12782</td>\n",
       "      <td>19.664615</td>\n",
       "    </tr>\n",
       "    <tr>\n",
       "      <th>5</th>\n",
       "      <td>Flush</td>\n",
       "      <td>5108</td>\n",
       "      <td>0.001965</td>\n",
       "      <td>0.196540</td>\n",
       "      <td>1306</td>\n",
       "      <td>2.009231</td>\n",
       "      <td>10612</td>\n",
       "      <td>16.326154</td>\n",
       "    </tr>\n",
       "    <tr>\n",
       "      <th>6</th>\n",
       "      <td>Full house</td>\n",
       "      <td>3744</td>\n",
       "      <td>0.001441</td>\n",
       "      <td>0.144058</td>\n",
       "      <td>898</td>\n",
       "      <td>1.381538</td>\n",
       "      <td>10648</td>\n",
       "      <td>16.381538</td>\n",
       "    </tr>\n",
       "    <tr>\n",
       "      <th>7</th>\n",
       "      <td>4 of a kind!</td>\n",
       "      <td>624</td>\n",
       "      <td>0.000240</td>\n",
       "      <td>0.024010</td>\n",
       "      <td>169</td>\n",
       "      <td>0.260000</td>\n",
       "      <td>773</td>\n",
       "      <td>1.189231</td>\n",
       "    </tr>\n",
       "    <tr>\n",
       "      <th>8</th>\n",
       "      <td>Straight flush!</td>\n",
       "      <td>40</td>\n",
       "      <td>0.000015</td>\n",
       "      <td>0.001539</td>\n",
       "      <td>5</td>\n",
       "      <td>0.007692</td>\n",
       "      <td>147</td>\n",
       "      <td>0.226154</td>\n",
       "    </tr>\n",
       "  </tbody>\n",
       "</table>\n",
       "</div>"
      ],
      "text/plain": [
       "         hand_type  hand_count  probability  true_prob_%  5c_stud_wins  \\\n",
       "0        High card     1302540     0.501177    50.117739            96   \n",
       "1           1 pair     1098240     0.422569    42.256903         29669   \n",
       "2           2 pair      123552     0.047539     4.753902         18891   \n",
       "3      3 of a kind       54912     0.021128     2.112845         11613   \n",
       "4         Straight       10200     0.003925     0.392465          2353   \n",
       "5            Flush        5108     0.001965     0.196540          1306   \n",
       "6       Full house        3744     0.001441     0.144058           898   \n",
       "7     4 of a kind!         624     0.000240     0.024010           169   \n",
       "8  Straight flush!          40     0.000015     0.001539             5   \n",
       "\n",
       "    5c_win_%  7c_stud_wins   7c_win_%  \n",
       "0   0.147692             0   0.000000  \n",
       "1  45.644615          2455   3.776923  \n",
       "2  29.063077         17946  27.609231  \n",
       "3  17.866154          9637  14.826154  \n",
       "4   3.620000         12782  19.664615  \n",
       "5   2.009231         10612  16.326154  \n",
       "6   1.381538         10648  16.381538  \n",
       "7   0.260000           773   1.189231  \n",
       "8   0.007692           147   0.226154  "
      ]
     },
     "execution_count": 8,
     "metadata": {},
     "output_type": "execute_result"
    }
   ],
   "source": [
    "games = 65_000\n",
    "five_card_stud_winners = winning_hand_distribution(games, players=10, cards=5)\n",
    "seven_card_stud_winners = winning_hand_distribution(games, players=7, cards=7)\n",
    "\n",
    "df[\"5c_stud_wins\"] = five_card_stud_winners\n",
    "df[\"5c_win_%\"] = df.apply(lambda x: (x[\"5c_stud_wins\"]/games)*100, axis=1)\n",
    "df[\"7c_stud_wins\"] = seven_card_stud_winners\n",
    "df[\"7c_win_%\"] = df.apply(lambda x: (x[\"7c_stud_wins\"]/games)*100, axis=1)\n",
    "df"
   ]
  },
  {
   "cell_type": "markdown",
   "metadata": {},
   "source": [
    "### Same idea for Texas Hold 'em "
   ]
  },
  {
   "cell_type": "code",
   "execution_count": 9,
   "metadata": {
    "collapsed": true
   },
   "outputs": [],
   "source": [
    "def holdem_win_hand_dist(n, players=10, cards=2):\n",
    "    '''\n",
    "    sample `n` random hands to generate a distribution of \n",
    "    winning hand types for # of `players`\n",
    "    '''\n",
    "    winners = [0]*10\n",
    "    for i in range(n):\n",
    "        hands, communal = deal_holdem(players, cards)\n",
    "        best_combos = [best_hand(h + communal) for h in hands]\n",
    "        hand_type = hand_rank(poker(best_combos)[0])[0]\n",
    "        winners[hand_type] += 1\n",
    "    winners.pop(8)# remove index 8\n",
    "    return winners"
   ]
  },
  {
   "cell_type": "code",
   "execution_count": 10,
   "metadata": {
    "collapsed": false
   },
   "outputs": [
    {
     "data": {
      "text/html": [
       "<div>\n",
       "<table border=\"1\" class=\"dataframe\">\n",
       "  <thead>\n",
       "    <tr style=\"text-align: right;\">\n",
       "      <th></th>\n",
       "      <th>hand_type</th>\n",
       "      <th>true_prob_%</th>\n",
       "      <th>5c_win_%</th>\n",
       "      <th>7c_win_%</th>\n",
       "      <th>holdem_win_%</th>\n",
       "    </tr>\n",
       "  </thead>\n",
       "  <tbody>\n",
       "    <tr>\n",
       "      <th>0</th>\n",
       "      <td>High card</td>\n",
       "      <td>50.117739</td>\n",
       "      <td>0.147692</td>\n",
       "      <td>0.000000</td>\n",
       "      <td>0.000000</td>\n",
       "    </tr>\n",
       "    <tr>\n",
       "      <th>1</th>\n",
       "      <td>1 pair</td>\n",
       "      <td>42.256903</td>\n",
       "      <td>45.644615</td>\n",
       "      <td>3.776923</td>\n",
       "      <td>7.838462</td>\n",
       "    </tr>\n",
       "    <tr>\n",
       "      <th>2</th>\n",
       "      <td>2 pair</td>\n",
       "      <td>4.753902</td>\n",
       "      <td>29.063077</td>\n",
       "      <td>27.609231</td>\n",
       "      <td>23.012308</td>\n",
       "    </tr>\n",
       "    <tr>\n",
       "      <th>3</th>\n",
       "      <td>3 of a kind</td>\n",
       "      <td>2.112845</td>\n",
       "      <td>17.866154</td>\n",
       "      <td>14.826154</td>\n",
       "      <td>17.327692</td>\n",
       "    </tr>\n",
       "    <tr>\n",
       "      <th>4</th>\n",
       "      <td>Straight</td>\n",
       "      <td>0.392465</td>\n",
       "      <td>3.620000</td>\n",
       "      <td>19.664615</td>\n",
       "      <td>20.849231</td>\n",
       "    </tr>\n",
       "    <tr>\n",
       "      <th>5</th>\n",
       "      <td>Flush</td>\n",
       "      <td>0.196540</td>\n",
       "      <td>2.009231</td>\n",
       "      <td>16.326154</td>\n",
       "      <td>14.018462</td>\n",
       "    </tr>\n",
       "    <tr>\n",
       "      <th>6</th>\n",
       "      <td>Full house</td>\n",
       "      <td>0.144058</td>\n",
       "      <td>1.381538</td>\n",
       "      <td>16.381538</td>\n",
       "      <td>15.181538</td>\n",
       "    </tr>\n",
       "    <tr>\n",
       "      <th>7</th>\n",
       "      <td>4 of a kind!</td>\n",
       "      <td>0.024010</td>\n",
       "      <td>0.260000</td>\n",
       "      <td>1.189231</td>\n",
       "      <td>1.449231</td>\n",
       "    </tr>\n",
       "    <tr>\n",
       "      <th>8</th>\n",
       "      <td>Straight flush!</td>\n",
       "      <td>0.001539</td>\n",
       "      <td>0.007692</td>\n",
       "      <td>0.226154</td>\n",
       "      <td>0.323077</td>\n",
       "    </tr>\n",
       "  </tbody>\n",
       "</table>\n",
       "</div>"
      ],
      "text/plain": [
       "         hand_type  true_prob_%   5c_win_%   7c_win_%  holdem_win_%\n",
       "0        High card    50.117739   0.147692   0.000000      0.000000\n",
       "1           1 pair    42.256903  45.644615   3.776923      7.838462\n",
       "2           2 pair     4.753902  29.063077  27.609231     23.012308\n",
       "3      3 of a kind     2.112845  17.866154  14.826154     17.327692\n",
       "4         Straight     0.392465   3.620000  19.664615     20.849231\n",
       "5            Flush     0.196540   2.009231  16.326154     14.018462\n",
       "6       Full house     0.144058   1.381538  16.381538     15.181538\n",
       "7     4 of a kind!     0.024010   0.260000   1.189231      1.449231\n",
       "8  Straight flush!     0.001539   0.007692   0.226154      0.323077"
      ]
     },
     "execution_count": 10,
     "metadata": {},
     "output_type": "execute_result"
    }
   ],
   "source": [
    "holdem_winners = holdem_win_hand_dist(games)\n",
    "df[\"holdem_wins\"] = holdem_winners\n",
    "df[\"holdem_win_%\"] = df.apply(lambda x: (x[\"holdem_wins\"]/games)*100, axis=1)\n",
    "\n",
    "df[[\"hand_type\", \"true_prob_%\", \"5c_win_%\", \"7c_win_%\", \"holdem_win_%\"]]"
   ]
  },
  {
   "cell_type": "markdown",
   "metadata": {},
   "source": [
    "### As can be seen above and below, there is high variance between the probability distributions (as a % of winning hands) and the expected distribution of hands (true_prob%)."
   ]
  },
  {
   "cell_type": "code",
   "execution_count": 11,
   "metadata": {
    "collapsed": false
   },
   "outputs": [
    {
     "data": {
      "image/png": "[encoded data removed]",
      "text/plain": [
       "<matplotlib.figure.Figure at 0x1217c83c8>"
      ]
     },
     "metadata": {},
     "output_type": "display_data"
    }
   ],
   "source": [
    "df = df.set_index(\"hand_type\")\n",
    "df[[\"true_prob_%\", \"5c_win_%\", \"7c_win_%\", \"holdem_win_%\"]].plot(kind=\"bar\", figsize=(12,8))\n",
    "plt.title(\"Comparison of winning hands vs. true probability distribution\")\n",
    "plt.ylabel(\"% of times event occurs\", fontsize=\"large\");"
   ]
  },
  {
   "cell_type": "code",
   "execution_count": 13,
   "metadata": {
    "collapsed": false
   },
   "outputs": [
    {
     "data": {
      "image/png": "[encoded data removed]",
      "text/plain": [
       "<matplotlib.figure.Figure at 0x12195c320>"
      ]
     },
     "metadata": {},
     "output_type": "display_data"
    }
   ],
   "source": [
    "df[[\"5c_win_%\", \"7c_win_%\", \"holdem_win_%\"]].plot(kind=\"bar\", figsize=(12,8))\n",
    "plt.title(\"Comparison of winning hands, 5-card-stud, 7-card-stud and Texas Hold 'em\")\n",
    "plt.ylabel(\"% of times event occurs\", fontsize=\"large\")\n",
    "plt.savefig(\"../images/winning_hands\")\n",
    "plt.show();"
   ]
  },
  {
   "cell_type": "markdown",
   "metadata": {},
   "source": [
    "### The variance among the 7-card games (7-card-stud and Hold 'em) is much lower than the variation between 5-card-stud and 7-card games.  \n",
    "- This shouldn't come as a surprise since the 7-card variants are making their best hand of 5-cards from 7-cards (21 possible combinations). \n",
    "- To demonstrate the difference, lets keep track of all the combinations for each 7-card hand dealt."
   ]
  },
  {
   "cell_type": "code",
   "execution_count": 14,
   "metadata": {
    "collapsed": false
   },
   "outputs": [
    {
     "name": "stdout",
     "output_type": "stream",
     "text": [
      "Total # of hands: 700\n",
      " Best hand distributions:\n",
      "[134, 298, 156, 43, 25, 22, 21, 1, 0]\n",
      "\n",
      "Total # of POSSIBLE hands: 14700\n",
      " Best hand distributions:\n",
      "[7384, 6133, 699, 381, 51, 22, 27, 3, 0]\n"
     ]
    }
   ],
   "source": [
    "def hand_dist7card(n, players=7, cards=7):\n",
    "    '''\n",
    "    sample `n` random hands to get a distribution of each hand type\n",
    "    '''\n",
    "    best_hand_types, possible_hand_types = [0]*10, [0]*10\n",
    "    for i in range(n):\n",
    "        for hand in deal(numhands=players, n=cards):\n",
    "            possible_hands = [h for h in itertools.combinations(hand, 5)]\n",
    "            for h in possible_hands:\n",
    "                r = hand_rank(h)[0]\n",
    "                possible_hand_types[r] += 1\n",
    "            best_h = max(possible_hands, key=hand_rank)\n",
    "            best_r = hand_rank(best_h)[0]\n",
    "            best_hand_types[best_r] += 1\n",
    "    best_hand_types.pop(8) # remove index 8\n",
    "    possible_hand_types.pop(8)\n",
    "    return best_hand_types, possible_hand_types\n",
    "\n",
    "best_hands, possible_hands = hand_dist7card(100)\n",
    "print(\"Total # of hands: {}\\n Best hand distributions:\\n{}\\n\".format(\n",
    "                                                            sum(best_hands), best_hands))\n",
    "print(\"Total # of POSSIBLE hands: {}\\n Best hand distributions:\\n{}\".format(\n",
    "                                                        sum(possible_hands), possible_hands))"
   ]
  },
  {
   "cell_type": "code",
   "execution_count": 15,
   "metadata": {
    "collapsed": false
   },
   "outputs": [
    {
     "name": "stdout",
     "output_type": "stream",
     "text": [
      "With 10000 games, there will \n",
      "be 70000 hands dealt (of which the best 5 cards will be kept)\n",
      "and 1470000 possible hand combinations.  Yeah, thats 1.47 million. \n",
      "\n",
      "Best hand distributions:\n",
      "[17.3886, 43.7786, 23.2957, 4.9, 4.5343, 3.1814, 2.7114, 0.18, 0.03]\n",
      "\n",
      "All possible hand distributions:\n",
      "[50.0316, 42.2524, 4.7706, 2.1721, 0.3907, 0.2075, 0.1479, 0.0257, 0.0016]\n"
     ]
    }
   ],
   "source": [
    "g = 10_000\n",
    "best_hands, possible_hands = hand_dist7card(g) \n",
    "\n",
    "print(\"\"\"With {} games, there will \n",
    "be {} hands dealt (of which the best 5 cards will be kept)\n",
    "and {} possible hand combinations.  Yeah, thats 1.47 million. \n",
    "\"\"\".format(g, g*7, g*7*21))\n",
    "\n",
    "total_best, total_possible = sum(best_hands), sum(possible_hands)\n",
    "print(\"Best hand distributions:\")\n",
    "seven_card_hand_freq = [round(i/total_best * 100, 4) for i in best_hands]\n",
    "print(seven_card_hand_freq)\n",
    "print()\n",
    "print(\"All possible hand distributions:\")\n",
    "possible_hand_freq = [round(i/total_possible * 100, 4) for i in possible_hands]\n",
    "print(possible_hand_freq)"
   ]
  },
  {
   "cell_type": "code",
   "execution_count": 17,
   "metadata": {
    "collapsed": false
   },
   "outputs": [
    {
     "data": {
      "text/html": [
       "<div>\n",
       "<table border=\"1\" class=\"dataframe\">\n",
       "  <thead>\n",
       "    <tr style=\"text-align: right;\">\n",
       "      <th></th>\n",
       "      <th>7c_best_%</th>\n",
       "      <th>7c_possible_%</th>\n",
       "      <th>true_prob_%</th>\n",
       "      <th>7c_win_%</th>\n",
       "    </tr>\n",
       "    <tr>\n",
       "      <th>hand_type</th>\n",
       "      <th></th>\n",
       "      <th></th>\n",
       "      <th></th>\n",
       "      <th></th>\n",
       "    </tr>\n",
       "  </thead>\n",
       "  <tbody>\n",
       "    <tr>\n",
       "      <th>High card</th>\n",
       "      <td>17.3886</td>\n",
       "      <td>50.0316</td>\n",
       "      <td>50.117739</td>\n",
       "      <td>0.000000</td>\n",
       "    </tr>\n",
       "    <tr>\n",
       "      <th>1 pair</th>\n",
       "      <td>43.7786</td>\n",
       "      <td>42.2524</td>\n",
       "      <td>42.256903</td>\n",
       "      <td>3.776923</td>\n",
       "    </tr>\n",
       "    <tr>\n",
       "      <th>2 pair</th>\n",
       "      <td>23.2957</td>\n",
       "      <td>4.7706</td>\n",
       "      <td>4.753902</td>\n",
       "      <td>27.609231</td>\n",
       "    </tr>\n",
       "    <tr>\n",
       "      <th>3 of a kind</th>\n",
       "      <td>4.9000</td>\n",
       "      <td>2.1721</td>\n",
       "      <td>2.112845</td>\n",
       "      <td>14.826154</td>\n",
       "    </tr>\n",
       "    <tr>\n",
       "      <th>Straight</th>\n",
       "      <td>4.5343</td>\n",
       "      <td>0.3907</td>\n",
       "      <td>0.392465</td>\n",
       "      <td>19.664615</td>\n",
       "    </tr>\n",
       "    <tr>\n",
       "      <th>Flush</th>\n",
       "      <td>3.1814</td>\n",
       "      <td>0.2075</td>\n",
       "      <td>0.196540</td>\n",
       "      <td>16.326154</td>\n",
       "    </tr>\n",
       "    <tr>\n",
       "      <th>Full house</th>\n",
       "      <td>2.7114</td>\n",
       "      <td>0.1479</td>\n",
       "      <td>0.144058</td>\n",
       "      <td>16.381538</td>\n",
       "    </tr>\n",
       "    <tr>\n",
       "      <th>4 of a kind!</th>\n",
       "      <td>0.1800</td>\n",
       "      <td>0.0257</td>\n",
       "      <td>0.024010</td>\n",
       "      <td>1.189231</td>\n",
       "    </tr>\n",
       "    <tr>\n",
       "      <th>Straight flush!</th>\n",
       "      <td>0.0300</td>\n",
       "      <td>0.0016</td>\n",
       "      <td>0.001539</td>\n",
       "      <td>0.226154</td>\n",
       "    </tr>\n",
       "  </tbody>\n",
       "</table>\n",
       "</div>"
      ],
      "text/plain": [
       "                 7c_best_%  7c_possible_%  true_prob_%   7c_win_%\n",
       "hand_type                                                        \n",
       "High card          17.3886        50.0316    50.117739   0.000000\n",
       "1 pair             43.7786        42.2524    42.256903   3.776923\n",
       "2 pair             23.2957         4.7706     4.753902  27.609231\n",
       "3 of a kind         4.9000         2.1721     2.112845  14.826154\n",
       "Straight            4.5343         0.3907     0.392465  19.664615\n",
       "Flush               3.1814         0.2075     0.196540  16.326154\n",
       "Full house          2.7114         0.1479     0.144058  16.381538\n",
       "4 of a kind!        0.1800         0.0257     0.024010   1.189231\n",
       "Straight flush!     0.0300         0.0016     0.001539   0.226154"
      ]
     },
     "execution_count": 17,
     "metadata": {},
     "output_type": "execute_result"
    }
   ],
   "source": [
    "df_7card = pd.DataFrame(list(zip(seven_card_hand_freq, \n",
    "                                 possible_hand_freq)), \n",
    "                        columns=[\"7c_best_%\", \"7c_possible_%\"], \n",
    "                        index=df.index)\n",
    "\n",
    "df_sevens = df_7card.join(df[[\"true_prob_%\", \"7c_win_%\"]])\n",
    "df_sevens"
   ]
  },
  {
   "cell_type": "markdown",
   "metadata": {},
   "source": [
    "### As can be seen above and below, the relative frequency (7c-possible-%) of all the possible combinations of 5-card-hands and the true-prob-% are nearly identical."
   ]
  },
  {
   "cell_type": "code",
   "execution_count": 18,
   "metadata": {
    "collapsed": false
   },
   "outputs": [
    {
     "data": {
      "image/png": "[encoded data removed]",
      "text/plain": [
       "<matplotlib.figure.Figure at 0x12203a978>"
      ]
     },
     "metadata": {},
     "output_type": "display_data"
    }
   ],
   "source": [
    "df_sevens.plot(kind=\"bar\", figsize=(12,8))\n",
    "plt.title(\"7-card stud deal (possible), combo (best), and win proabilities compared to true probabilities.\")\n",
    "plt.ylabel(\"% of times event occurs\", fontsize=\"large\");"
   ]
  },
  {
   "cell_type": "markdown",
   "metadata": {},
   "source": [
    "### Taking a closer look:"
   ]
  },
  {
   "cell_type": "code",
   "execution_count": 19,
   "metadata": {
    "collapsed": false
   },
   "outputs": [
    {
     "data": {
      "image/png": "[encoded data removed]",
      "text/plain": [
       "<matplotlib.figure.Figure at 0x127954908>"
      ]
     },
     "metadata": {},
     "output_type": "display_data"
    },
    {
     "data": {
      "image/png": "[encoded data removed]",
      "text/plain": [
       "<matplotlib.figure.Figure at 0x127c70b00>"
      ]
     },
     "metadata": {},
     "output_type": "display_data"
    }
   ],
   "source": [
    "for i in range(2):\n",
    "    if i == 0:\n",
    "        df_sevens[[\"7c_possible_%\", \"true_prob_%\"]].plot(kind=\"bar\", logy=False)\n",
    "        plt.title(\"Unscaled Distribution\")\n",
    "        plt.ylabel(\"% of times event occurs\")\n",
    "        plt.show()\n",
    "    else:\n",
    "        df_sevens[[\"7c_possible_%\", \"true_prob_%\"]].plot(kind=\"bar\", logy=True)\n",
    "        plt.title(\"Log Scaled Distribution\")\n",
    "        plt.ylabel(\"log scaled % of times event occurs\")\n",
    "        plt.show();"
   ]
  },
  {
   "cell_type": "code",
   "execution_count": 21,
   "metadata": {
    "collapsed": false
   },
   "outputs": [
    {
     "data": {
      "image/png": "[encoded data removed]",
      "text/plain": [
       "<matplotlib.figure.Figure at 0x12794c0f0>"
      ]
     },
     "metadata": {},
     "output_type": "display_data"
    }
   ],
   "source": [
    "df_sevens[[\"7c_possible_%\", \"7c_best_%\"]].plot(kind=\"bar\", figsize=(12,8))\n",
    "plt.title(\"7-card-stud before choosing (7c_possible) and after (7c_best)\")\n",
    "plt.ylabel(\"% of times event occurs\", fontsize=\"large\");"
   ]
  },
  {
   "cell_type": "markdown",
   "metadata": {},
   "source": [
    "### Earlier, we established \"7c_possible\" hands were very close to what we would expect, i.e., they nearly matched the expected proportions (\"true-prob\").  \n",
    "\n",
    "#### Comparing this possible 5-card hand distribuition with the best 5-card distribution, we notice the skew for the possible hands is much greater than the skew for the best-hand.  \n",
    "- This shouldn't come as a surprise that given 21 combinations, we can create a better hand and thus redistribute our frequency of weaker ranked hands to that of stronger ones. \n",
    "- One final note, throughout the notebook the terms *probability* and *proportion* were used interchangeably.  \n",
    "- To be more clear, \n",
    "#### *Probability* is the *proportion* of times an outcome would occur in many repeated trials of a random phenomenon."
   ]
  },
  {
   "cell_type": "markdown",
   "metadata": {},
   "source": [
    "### Now that we are armed with a sense and intuition of probability, lets go and explore prior and posterior probabilities with the infamous [Bayes Rule](../bayes)"
   ]
  },
  {
   "cell_type": "markdown",
   "metadata": {
    "collapsed": true
   },
   "source": [
    "____"
   ]
  }
 ],
 "metadata": {
  "kernelspec": {
   "display_name": "Python [conda env:stats]",
   "language": "python",
   "name": "conda-env-stats-py"
  },
  "language_info": {
   "codemirror_mode": {
    "name": "ipython",
    "version": 3
   },
   "file_extension": ".py",
   "mimetype": "text/x-python",
   "name": "python",
   "nbconvert_exporter": "python",
   "pygments_lexer": "ipython3",
   "version": "3.6.0"
  }
 },
 "nbformat": 4,
 "nbformat_minor": 2
}
