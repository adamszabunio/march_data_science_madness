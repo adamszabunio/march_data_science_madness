{
 "cells": [
  {
   "cell_type": "markdown",
   "metadata": {},
   "source": [
    "### During exploration of [probability with poker](../probability/crazy_game_of_poker/), we showed how probability was a number ranging between 0 and 1 (inclusive) that represented a prediction or degree of belief that an *Event* would occur. \n",
    "- Before jumping into *Conditional Probability* we need to touch on a few other topics:\n",
    "    + Independent Events\n",
    "    + Conjoint Probability"
   ]
  },
  {
   "cell_type": "code",
   "execution_count": 10,
   "metadata": {
    "collapsed": false
   },
   "outputs": [
    {
     "name": "stdout",
     "output_type": "stream",
     "text": [
      "Number of unique cards:  52\n"
     ]
    }
   ],
   "source": [
    "import random\n",
    "import itertools\n",
    "from fractions import Fraction\n",
    "\n",
    "ranks = '23456789TJQKA'\n",
    "suits = '♥♣◆♠'  \n",
    "deck = {r+s for r in ranks for s in suits}\n",
    "n_cards = len(deck)\n",
    "print(\"Number of unique cards: \", n_cards)"
   ]
  },
  {
   "cell_type": "code",
   "execution_count": 13,
   "metadata": {
    "collapsed": false
   },
   "outputs": [
    {
     "data": {
      "text/plain": [
       "Fraction(1, 52)"
      ]
     },
     "execution_count": 13,
     "metadata": {},
     "output_type": "execute_result"
    }
   ],
   "source": [
    "Fraction(sum([card == 'A♠' for card in deck]), n_cards)"
   ]
  },
  {
   "cell_type": "code",
   "execution_count": 14,
   "metadata": {
    "collapsed": false
   },
   "outputs": [
    {
     "data": {
      "text/plain": [
       "Fraction(1, 13)"
      ]
     },
     "execution_count": 14,
     "metadata": {},
     "output_type": "execute_result"
    }
   ],
   "source": [
    "Fraction(sum([r == 'A' for r,s in deck]), n_cards) # 4/52"
   ]
  },
  {
   "cell_type": "code",
   "execution_count": 15,
   "metadata": {
    "collapsed": false
   },
   "outputs": [
    {
     "data": {
      "text/plain": [
       "Fraction(1, 4)"
      ]
     },
     "execution_count": 15,
     "metadata": {},
     "output_type": "execute_result"
    }
   ],
   "source": [
    "Fraction(sum([s == '♠' for r,s in deck]), n_cards) # 13/52"
   ]
  },
  {
   "cell_type": "code",
   "execution_count": 6,
   "metadata": {
    "collapsed": false
   },
   "outputs": [
    {
     "data": {
      "text/plain": [
       "19209"
      ]
     },
     "execution_count": 6,
     "metadata": {},
     "output_type": "execute_result"
    }
   ],
   "source": [
    "# independent event:\n",
    "count = 0\n",
    "for i in range(1_000_000):\n",
    "    random.shuffle(deck)\n",
    "    if deck[0] == 'A♠':\n",
    "        count +=1\n",
    "count"
   ]
  },
  {
   "cell_type": "code",
   "execution_count": 8,
   "metadata": {
    "collapsed": false
   },
   "outputs": [
    {
     "data": {
      "text/plain": [
       "(0.019209, 0.019230769230769232)"
      ]
     },
     "execution_count": 8,
     "metadata": {},
     "output_type": "execute_result"
    }
   ],
   "source": [
    "count/1_000_000, 1/52"
   ]
  },
  {
   "cell_type": "code",
   "execution_count": 3,
   "metadata": {
    "collapsed": false
   },
   "outputs": [
    {
     "name": "stdout",
     "output_type": "stream",
     "text": [
      "Number of unique hands:  2598960\n"
     ]
    },
    {
     "data": {
      "text/plain": [
       "[('6♠', '9♠', 'J♥', 'J♠', 'A♠'),\n",
       " ('7♠', '8♠', 'J♥', 'J♣', 'A◆'),\n",
       " ('3♥', '3♣', '5♥', '6◆', 'A♥'),\n",
       " ('3♥', '9♣', 'J◆', 'Q♣', 'K◆'),\n",
       " ('5♠', '6♥', '9◆', 'Q◆', 'K♠')]"
      ]
     },
     "execution_count": 3,
     "metadata": {},
     "output_type": "execute_result"
    }
   ],
   "source": [
    "hands = [h for h in itertools.combinations(deck, 5)]\n",
    "print(\"Number of unique hands: \", len(hands))\n",
    "random.shuffle(hands)\n",
    "hands[:5]"
   ]
  },
  {
   "cell_type": "code",
   "execution_count": null,
   "metadata": {
    "collapsed": true
   },
   "outputs": [],
   "source": []
  },
  {
   "cell_type": "markdown",
   "metadata": {},
   "source": [
    "### Conditional Probability\n",
    "- A conditional probability is a probability based on some background information.\n",
    "- It is usually written as $P(A|B)$, i.e. the *Probability* of $A$ given $B$.\n",
    "    + with the caveat of $B$ being *True* $(>0)$. \n",
    "        + Will go into why this must be the case later.  \n",
    "\n"
   ]
  },
  {
   "cell_type": "code",
   "execution_count": null,
   "metadata": {
    "collapsed": true
   },
   "outputs": [],
   "source": []
  }
 ],
 "metadata": {
  "kernelspec": {
   "display_name": "Python [conda env:stats]",
   "language": "python",
   "name": "conda-env-stats-py"
  },
  "language_info": {
   "codemirror_mode": {
    "name": "ipython",
    "version": 3
   },
   "file_extension": ".py",
   "mimetype": "text/x-python",
   "name": "python",
   "nbconvert_exporter": "python",
   "pygments_lexer": "ipython3",
   "version": "3.6.0"
  }
 },
 "nbformat": 4,
 "nbformat_minor": 2
}
