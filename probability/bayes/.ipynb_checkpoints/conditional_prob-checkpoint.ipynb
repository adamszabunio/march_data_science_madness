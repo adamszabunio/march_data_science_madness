{
 "cells": [
  {
   "cell_type": "markdown",
   "metadata": {},
   "source": [
    "### During exploration of [probability with poker](../probability/crazy_game_of_poker/), we showed how probability was a number ranging between 0 and 1 (inclusive) which represented a prediction or degree of belief that an *Event* occurs. \n",
    "- Before jumping into *Conditional Probability* we need to touch on a few other topics:\n",
    "    + Independent Events\n",
    "    + Joint Probability"
   ]
  },
  {
   "cell_type": "code",
   "execution_count": 1,
   "metadata": {
    "collapsed": false
   },
   "outputs": [
    {
     "name": "stdout",
     "output_type": "stream",
     "text": [
      "Number of unique cards:  52\n"
     ]
    }
   ],
   "source": [
    "import random\n",
    "from fractions import Fraction\n",
    "import numpy as np\n",
    "import matplotlib.pyplot as plt\n",
    "%matplotlib inline\n",
    "\n",
    "ranks = '23456789TJQKA'\n",
    "suits = '♥♣◆♠'  \n",
    "deck = [r+s for r in ranks for s in suits]\n",
    "n_cards = len(deck)\n",
    "print(\"Number of unique cards: \", n_cards)"
   ]
  },
  {
   "cell_type": "markdown",
   "metadata": {},
   "source": [
    "### Quick Probability refresher, Starting with the Ace of Spades $(A♠)$ as our *Event*:\n",
    "- We want to know how many times the *event* $A♠$ falls into the *sample space, our deck*.\n",
    "- Using set notation, we find the intersection of the *event* with our *sample space*:"
   ]
  },
  {
   "cell_type": "code",
   "execution_count": 2,
   "metadata": {
    "collapsed": false
   },
   "outputs": [
    {
     "data": {
      "text/plain": [
       "{'A♠'}"
      ]
     },
     "execution_count": 2,
     "metadata": {},
     "output_type": "execute_result"
    }
   ],
   "source": [
    "{'A♠'} & set(deck) # same as set(['A♠']).intersection(deck) "
   ]
  },
  {
   "cell_type": "code",
   "execution_count": 3,
   "metadata": {
    "collapsed": false
   },
   "outputs": [
    {
     "data": {
      "text/plain": [
       "Fraction(1, 52)"
      ]
     },
     "execution_count": 3,
     "metadata": {},
     "output_type": "execute_result"
    }
   ],
   "source": [
    "event = {'A♠'} & set(deck)\n",
    "Fraction(len(event), n_cards)"
   ]
  },
  {
   "cell_type": "code",
   "execution_count": 4,
   "metadata": {
    "collapsed": false
   },
   "outputs": [
    {
     "data": {
      "text/plain": [
       "Fraction(1, 52)"
      ]
     },
     "execution_count": 4,
     "metadata": {},
     "output_type": "execute_result"
    }
   ],
   "source": [
    "# same as above, element-wise comparision\n",
    "Fraction(sum([card == 'A♠' for card in deck]), n_cards)"
   ]
  },
  {
   "cell_type": "markdown",
   "metadata": {},
   "source": [
    "### Below are two more examples of an *Event* and *Sample Space*, where the *Event* is a *subset* of the *sample space*. \n",
    "- First, what is the probability of drawing an *Ace* from the *Deck*?"
   ]
  },
  {
   "cell_type": "code",
   "execution_count": 5,
   "metadata": {
    "collapsed": false
   },
   "outputs": [
    {
     "data": {
      "text/plain": [
       "Fraction(1, 13)"
      ]
     },
     "execution_count": 5,
     "metadata": {},
     "output_type": "execute_result"
    }
   ],
   "source": [
    "# Drawing an Ace \n",
    "Fraction(sum([r == 'A' for r,s in deck]), n_cards) # 4/52"
   ]
  },
  {
   "cell_type": "code",
   "execution_count": 6,
   "metadata": {
    "collapsed": false
   },
   "outputs": [
    {
     "data": {
      "text/plain": [
       "Fraction(1, 13)"
      ]
     },
     "execution_count": 6,
     "metadata": {},
     "output_type": "execute_result"
    }
   ],
   "source": [
    "aces = {'A♥','A♣', 'A◆', 'A♠'} & set(deck)\n",
    "Fraction(len(aces), n_cards)"
   ]
  },
  {
   "cell_type": "markdown",
   "metadata": {},
   "source": [
    "- Second, what is the probability of drawing a *Spade* from the *Deck*?"
   ]
  },
  {
   "cell_type": "code",
   "execution_count": 7,
   "metadata": {
    "collapsed": false
   },
   "outputs": [
    {
     "data": {
      "text/plain": [
       "Fraction(1, 4)"
      ]
     },
     "execution_count": 7,
     "metadata": {},
     "output_type": "execute_result"
    }
   ],
   "source": [
    "# Drawing a Spade\n",
    "Fraction(sum([s == '♠' for r,s in deck]), n_cards) # 13/52"
   ]
  },
  {
   "cell_type": "markdown",
   "metadata": {},
   "source": [
    "### Law of large numbers\n",
    "+ As we increase the number of samples, the proportion of the observed outcome will converge on the expected probability.\n",
    "- Back to the Ace of Spades\n",
    "- We *Expect* an $A♠$ to be drawn $\\frac{1}{52}$, a proability of ≈ 0.01923\n",
    "    + 1.923 %"
   ]
  },
  {
   "cell_type": "code",
   "execution_count": 8,
   "metadata": {
    "collapsed": false
   },
   "outputs": [
    {
     "name": "stdout",
     "output_type": "stream",
     "text": [
      "# of Draws: 1, \n",
      "Observed outcome: 0, Probability: 0.0\n",
      "\n",
      "# of Draws: 10, \n",
      "Observed outcome: 0, Probability: 0.0\n",
      "\n",
      "# of Draws: 100, \n",
      "Observed outcome: 1, Probability: 0.01\n",
      "\n",
      "# of Draws: 1000, \n",
      "Observed outcome: 22, Probability: 0.022\n",
      "\n",
      "# of Draws: 10000, \n",
      "Observed outcome: 186, Probability: 0.0186\n",
      "\n",
      "# of Draws: 100000, \n",
      "Observed outcome: 1940, Probability: 0.0194\n",
      "\n",
      "# of Draws: 1000000, \n",
      "Observed outcome: 19211, Probability: 0.019211\n",
      "\n",
      "Expected Probability of Drawing an A♠: 0.019230769230769232\n"
     ]
    }
   ],
   "source": [
    "draws = [10**d for d in range(7)] #[1, 10, 100,..., 1_000_000]\n",
    "spade_ace = 'A♠'\n",
    "for draw in draws:\n",
    "    samp = np.random.choice(deck, draw)\n",
    "    total_ace = np.count_nonzero(samp == 'A♠')\n",
    "    print(\"# of Draws: {}, \\nObserved outcome: {}, Probability: {}\\n\".format(draw, \n",
    "                                                                           total_ace, \n",
    "                                                                           total_ace/draw))\n",
    "print(\"Expected Probability of Drawing an A♠: {}\".format(1/52))"
   ]
  },
  {
   "cell_type": "code",
   "execution_count": 9,
   "metadata": {
    "collapsed": false
   },
   "outputs": [],
   "source": [
    "n_samps = np.cumsum(np.arange(100, 30_100, 200))\n",
    "probs = []\n",
    "spade_ace = 'A♠'\n",
    "for samp in n_samps:\n",
    "    samps = np.random.choice(deck, samp)\n",
    "    total_ace = np.count_nonzero(samps == 'A♠')\n",
    "    probs.append(total_ace/samp)"
   ]
  },
  {
   "cell_type": "code",
   "execution_count": 10,
   "metadata": {
    "collapsed": false
   },
   "outputs": [
    {
     "data": {
      "image/png": "[encoded data removed]",
      "text/plain": [
       "<matplotlib.figure.Figure at 0x10db475f8>"
      ]
     },
     "metadata": {},
     "output_type": "display_data"
    }
   ],
   "source": [
    "plt.plot(n_samps)\n",
    "plt.title(\"Cumulative Sum of Sample Sizes\");"
   ]
  },
  {
   "cell_type": "code",
   "execution_count": 12,
   "metadata": {
    "collapsed": false
   },
   "outputs": [
    {
     "data": {
      "image/png": "[encoded data removed]",
      "text/plain": [
       "<matplotlib.figure.Figure at 0x10db6c0b8>"
      ]
     },
     "metadata": {},
     "output_type": "display_data"
    }
   ],
   "source": [
    "fig, ax = plt.subplots(figsize=(14,8))\n",
    "plt.plot(probs)\n",
    "plt.plot(np.arange(len(n_samps)), [(1/52)]*len(probs), 'r--')\n",
    "plt.annotate(\"Expected Probability ≈ 0.01923\", (115, 0.0197), color='r')\n",
    "plt.title(\"Law of Large Numbers.  Converges on the Expected Probability as the sample size approaches infinity.\")\n",
    "plt.xlabel(\"Number of Draws in Sample\", fontsize=\"large\")\n",
    "plt.ylabel(\"Probability\", fontsize=\"large\")\n",
    "plt.xticks(np.arange(0,len(n_samps)+1,5), \n",
    "           np.concatenate((n_samps[::5], n_samps[-1:])), \n",
    "           rotation=45);\n",
    "plt.savefig(\"../images/law_large_numbers\")"
   ]
  },
  {
   "cell_type": "markdown",
   "metadata": {},
   "source": [
    "### What if we load the deck with Aces? \n",
    "- Replace 12 random (non $A♠$) cards w/ the Ace of Spades. \n",
    "    + Now there are 13 $A♠$, so we should expect to see an $A♠$  $\\frac{13}{52}$ or $\\frac{1}{4}$ of the time. \n",
    "    + The probability jumps from 0.01923 to 0.25, (1.923% --> 25%)"
   ]
  },
  {
   "cell_type": "code",
   "execution_count": 13,
   "metadata": {
    "collapsed": false
   },
   "outputs": [
    {
     "data": {
      "text/plain": [
       "['A♠', 'A♠', 'A♠', 'A♠', 'A♠', 'A♠', 'A♠', 'A♠', 'A♠', 'A♠', 'A♠', 'A♠']"
      ]
     },
     "execution_count": 13,
     "metadata": {},
     "output_type": "execute_result"
    }
   ],
   "source": [
    "loaded_deck = list(deck)\n",
    "assert \"A♠\" not in loaded_deck[:12]\n",
    "loaded_deck[:12] = [\"A♠\"]*12\n",
    "loaded_deck[:12]"
   ]
  },
  {
   "cell_type": "code",
   "execution_count": 14,
   "metadata": {
    "collapsed": false
   },
   "outputs": [
    {
     "name": "stdout",
     "output_type": "stream",
     "text": [
      "# of Draws: 1, \n",
      "Observed outcome: 0, Probability: 0.0\n",
      "\n",
      "# of Draws: 10, \n",
      "Observed outcome: 3, Probability: 0.3\n",
      "\n",
      "# of Draws: 100, \n",
      "Observed outcome: 21, Probability: 0.21\n",
      "\n",
      "# of Draws: 1000, \n",
      "Observed outcome: 269, Probability: 0.269\n",
      "\n",
      "# of Draws: 10000, \n",
      "Observed outcome: 2495, Probability: 0.2495\n",
      "\n",
      "# of Draws: 100000, \n",
      "Observed outcome: 25160, Probability: 0.2516\n",
      "\n",
      "# of Draws: 1000000, \n",
      "Observed outcome: 249710, Probability: 0.24971\n",
      "\n",
      "Expected Probability of Drawing an A♠ from a loaded deck: 0.25\n"
     ]
    }
   ],
   "source": [
    "for draw in draws:\n",
    "    samp = np.random.choice(loaded_deck, draw)\n",
    "    total_ace = np.count_nonzero(samp == 'A♠')    \n",
    "    print(\"# of Draws: {}, \\nObserved outcome: {}, Probability: {}\\n\".format(draw, \n",
    "                                                                           total_ace, \n",
    "                                                                           total_ace/draw))\n",
    "print(\"Expected Probability of Drawing an A♠ from a loaded deck: {}\".format(13/52))"
   ]
  },
  {
   "cell_type": "markdown",
   "metadata": {},
   "source": [
    "### Independent/ Dependent Events \n",
    "##### Independent Events\n",
    "- As the name implies, knowing the outcome of the *first event* does not depend on the *second evnet* and vice versa. i.e Knowing the *first* does *not* change the probability of the *second*.\n",
    "- If two events are independent then the probability of *Both* occuring is the product of the two probabilities.  For example:\n",
    "    - If we were to draw an $A♠$ from a fair deck, the probaility, $P(A♠$ = $\\frac{1}{52}$\n",
    "    - If we place the card back into the deck, shuffle, and draw again, the probability does not change, $P(A♠)$ = $\\frac{1}{52}$\n",
    "        + *Replacement*, will come back to this in a moment\n",
    "    - Calling the first event, $P(A♠_1)$, and the second $P(A♠_2)$, lets introduce *Joint Probabilities.*\n",
    "    \n",
    "### Joint Probabilities\n",
    "- Probability of outcomes for two or more events. \n",
    "    + $P(A♠_1$ and $A♠_2) = P(A♠_1)\\times P(A♠_2)$\n",
    "    + Also can be written as:\n",
    "    + $P(A♠_1, A♠_2) = P(A♠_1)\\times P(A♠_2)$\n",
    "    + Multiple events can be generalized as :\n",
    "    + $P(A♠_1, A♠_2, A♠_3,..., A♠_n) = P(A♠_1)\\times P(A♠_2)\\times P(A♠_3)\\times,..., P(A♠_n)$\n",
    "    \n",
    "- Using the loaded deck with 13 $A♠$ as an example:"
   ]
  },
  {
   "cell_type": "code",
   "execution_count": 15,
   "metadata": {
    "collapsed": false
   },
   "outputs": [
    {
     "name": "stdout",
     "output_type": "stream",
     "text": [
      "1/4 X 1/4\n"
     ]
    },
    {
     "data": {
      "text/plain": [
       "Fraction(1, 16)"
      ]
     },
     "execution_count": 15,
     "metadata": {},
     "output_type": "execute_result"
    }
   ],
   "source": [
    "p_A_1, p_A_2 = 13/52, 13/52 # One quarter of the deck is an Ace of Spades\n",
    "joint_independent = p_A_1 * p_A_2\n",
    "print(Fraction(p_A_1), \"X\", Fraction(p_A_2))\n",
    "Fraction(joint_independent)"
   ]
  },
  {
   "cell_type": "markdown",
   "metadata": {},
   "source": [
    "- How do the probabilities change if the events are no longer independent?\n",
    "\n",
    "##### Dependent Events"
   ]
  },
  {
   "cell_type": "code",
   "execution_count": 16,
   "metadata": {
    "collapsed": false
   },
   "outputs": [
    {
     "name": "stdout",
     "output_type": "stream",
     "text": [
      "0.0625 0.058823529411764705\n"
     ]
    },
    {
     "data": {
      "text/plain": [
       "False"
      ]
     },
     "execution_count": 16,
     "metadata": {},
     "output_type": "execute_result"
    }
   ],
   "source": [
    "p_A_1, p_A_2 = 13/52, 12/51\n",
    "joint_dependent = p_A_1 * p_A_2\n",
    "print(joint_independent, joint_dependent)\n",
    "joint_independent < joint_dependent"
   ]
  },
  {
   "cell_type": "markdown",
   "metadata": {},
   "source": [
    "### Conditional Probability\n",
    "- A conditional probability is a probability based on some background information.\n",
    "- It is usually written as $P(A|B)$, i.e. the *Probability* of $A$ given $B$.\n",
    "    + with the caveat of $B$ being *True* $(>0)$. \n",
    "        + Will go into why this must be the case later.  \n",
    "\n"
   ]
  },
  {
   "cell_type": "code",
   "execution_count": null,
   "metadata": {
    "collapsed": true
   },
   "outputs": [],
   "source": []
  }
 ],
 "metadata": {
  "kernelspec": {
   "display_name": "Python [conda env:stats]",
   "language": "python",
   "name": "conda-env-stats-py"
  },
  "language_info": {
   "codemirror_mode": {
    "name": "ipython",
    "version": 3
   },
   "file_extension": ".py",
   "mimetype": "text/x-python",
   "name": "python",
   "nbconvert_exporter": "python",
   "pygments_lexer": "ipython3",
   "version": "3.6.0"
  }
 },
 "nbformat": 4,
 "nbformat_minor": 2
}
